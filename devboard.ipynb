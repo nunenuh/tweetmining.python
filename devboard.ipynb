{
 "cells": [
  {
   "cell_type": "code",
   "execution_count": 53,
   "metadata": {},
   "outputs": [],
   "source": [
    "import twitter\n",
    "import json\n",
    "\n",
    "import py2neo\n",
    "from py2neo import Graph, NodeMatcher\n",
    "from py2neo.data import Node, Relationship"
   ]
  },
  {
   "cell_type": "code",
   "execution_count": 7,
   "metadata": {},
   "outputs": [
    {
     "data": {
      "text/plain": [
       "{'CONSUMER_KEY': 'EChOOeWLzPLAjZ2MccF0yQCM9',\n",
       " 'CONSUMER_SECRET': 'qZ8NfVO26bCZvEchmzkBZ2w9kHd1gPKQAICSihWefmiSxTSepB',\n",
       " 'ACCESS_TOKEN': '976817437403357184-09Zxi32tC2oY04RDaVngtxh9Hcoc17x',\n",
       " 'ACCESS_SECRET': 'qLvEDX7VBlXj9Y06l6oERlTHdRzvenQl56MR3vKbGIijH'}"
      ]
     },
     "execution_count": 7,
     "metadata": {},
     "output_type": "execute_result"
    }
   ],
   "source": [
    "with open('config.json') as file:\n",
    "    token = json.load(file)\n",
    "token"
   ]
  },
  {
   "cell_type": "code",
   "execution_count": 8,
   "metadata": {},
   "outputs": [],
   "source": [
    "api = twitter.Api(consumer_key=token['CONSUMER_KEY'],\n",
    "                  consumer_secret=token['CONSUMER_SECRET'],\n",
    "                  access_token_key=token['ACCESS_TOKEN'],\n",
    "                  access_token_secret=token['ACCESS_SECRET'])"
   ]
  },
  {
   "cell_type": "code",
   "execution_count": 73,
   "metadata": {},
   "outputs": [],
   "source": [
    "graph = Graph(\"bolt://localhost:11004\", user=\"neo4j\", password=\"123456\")\n",
    "graph.delete_all()"
   ]
  },
  {
   "cell_type": "code",
   "execution_count": 74,
   "metadata": {},
   "outputs": [],
   "source": [
    "# api.GetUserTimeline(screen_name='nunenuh')\n",
    "username = 'nunenuh'\n",
    "user = api.GetUser(screen_name=username)\n",
    "follower = api.GetFollowers(screen_name=username)\n",
    "following = api.GetFriends(screen_name=username)"
   ]
  },
  {
   "cell_type": "code",
   "execution_count": 75,
   "metadata": {},
   "outputs": [
    {
     "data": {
      "text/plain": [
       "(161, 913)"
      ]
     },
     "execution_count": 75,
     "metadata": {},
     "output_type": "execute_result"
    }
   ],
   "source": [
    "len(follower), len(following)"
   ]
  },
  {
   "cell_type": "code",
   "execution_count": 51,
   "metadata": {},
   "outputs": [
    {
     "data": {
      "text/plain": [
       "User(ID=190368199, ScreenName=nunenuh)"
      ]
     },
     "execution_count": 51,
     "metadata": {},
     "output_type": "execute_result"
    }
   ],
   "source": [
    "user"
   ]
  },
  {
   "cell_type": "code",
   "execution_count": 76,
   "metadata": {},
   "outputs": [],
   "source": [
    "#defining nodes and its relationship\n",
    "nunenuh = Node(\"User\", screen_name=user.screen_name, id=user.id)\n",
    "tx = graph.begin()\n",
    "tx.create(nunenuh)\n",
    "tx.commit()"
   ]
  },
  {
   "cell_type": "code",
   "execution_count": 80,
   "metadata": {},
   "outputs": [],
   "source": [
    "f = NodeMatcher(graph)\n",
    "nunenuh = f.match(\"User\", screen_name=\"nunenuh\").first()\n",
    "\n",
    "for fol in follower:\n",
    "    fol_node = Node(\"User\", screen_name=fol.screen_name, id=fol.id)\n",
    "    fol_rel = Relationship(fol_node, \"FOLLOWER\", nunenuh)\n",
    "    \n",
    "    tx = graph.begin()\n",
    "    tx.merge(fol_node, primary_label=\"User\", primary_key=\"id\")\n",
    "    tx.create(fol_rel)\n",
    "    tx.commit()\n",
    "    "
   ]
  },
  {
   "cell_type": "code",
   "execution_count": 81,
   "metadata": {},
   "outputs": [],
   "source": [
    "f = NodeMatcher(graph)\n",
    "nunenuh = f.match(\"User\", screen_name=\"nunenuh\").first()\n",
    "\n",
    "for foln in following:\n",
    "    foln_node = Node(\"User\", screen_name=foln.screen_name, id=foln.id)\n",
    "    foln_rel = Relationship(nunenuh, \"FOLLOWING\", foln_node)\n",
    "    \n",
    "    tx = graph.begin()\n",
    "    tx.merge(foln_node, primary_label=\"User\", primary_key=\"id\")\n",
    "    tx.create(foln_rel)\n",
    "    tx.commit()\n",
    "    "
   ]
  },
  {
   "cell_type": "code",
   "execution_count": null,
   "metadata": {},
   "outputs": [],
   "source": []
  }
 ],
 "metadata": {
  "kernelspec": {
   "display_name": "Python 3",
   "language": "python",
   "name": "python3"
  },
  "language_info": {
   "codemirror_mode": {
    "name": "ipython",
    "version": 3
   },
   "file_extension": ".py",
   "mimetype": "text/x-python",
   "name": "python",
   "nbconvert_exporter": "python",
   "pygments_lexer": "ipython3",
   "version": "3.6.7"
  }
 },
 "nbformat": 4,
 "nbformat_minor": 2
}
